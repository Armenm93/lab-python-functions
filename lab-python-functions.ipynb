{
 "cells": [
  {
   "cell_type": "markdown",
   "id": "25d7736c-ba17-4aff-b6bb-66eba20fbf4e",
   "metadata": {},
   "source": [
    "# Lab | Functions"
   ]
  },
  {
   "cell_type": "markdown",
   "id": "0c581062-8967-4d93-b06e-62833222f930",
   "metadata": {
    "tags": []
   },
   "source": [
    "## Exercise: Managing Customer Orders with Functions\n",
    "\n",
    "In the previous exercise, you improved the code for managing customer orders by using loops and flow control. Now, let's take it a step further and refactor the code by introducing functions.\n",
    "\n",
    "Follow the steps below to complete the exercise:\n",
    "\n",
    "1. Define a function named `initialize_inventory` that takes `products` as a parameter. Inside the function, implement the code for initializing the inventory dictionary using a loop and user input.\n",
    "\n",
    "2. Define a function named `get_customer_orders` that takes no parameters. Inside the function, implement the code for prompting the user to enter the product names using a loop. The function should return the `customer_orders` set.\n",
    "\n",
    "3. Define a function named `update_inventory` that takes `customer_orders` and `inventory` as parameters. Inside the function, implement the code for updating the inventory dictionary based on the customer orders.\n",
    "\n",
    "4. Define a function named `calculate_order_statistics` that takes `customer_orders` and `products` as parameters. Inside the function, implement the code for calculating the order statistics (total products ordered, and percentage of unique products ordered). The function should return these values.\n",
    "\n",
    "5. Define a function named `print_order_statistics` that takes `order_statistics` as a parameter. Inside the function, implement the code for printing the order statistics.\n",
    "\n",
    "6. Define a function named `print_updated_inventory` that takes `inventory` as a parameter. Inside the function, implement the code for printing the updated inventory.\n",
    "\n",
    "7. Call the functions in the appropriate sequence to execute the program and manage customer orders.\n",
    "\n",
    "Hints for functions:\n",
    "\n",
    "- Consider the input parameters required for each function and their return values.\n",
    "- Utilize function parameters and return values to transfer data between functions.\n",
    "- Test your functions individually to ensure they work correctly.\n",
    "\n",
    "\n"
   ]
  },
  {
   "cell_type": "code",
   "execution_count": null,
   "metadata": {
    "vscode": {
     "languageId": "plaintext"
    }
   },
   "outputs": [],
   "source": [
    "def initialize_inventory(products):\n",
    "    # Create an empty dictionary for inventory\n",
    "    inventory = {}\n",
    "\n",
    "    # Initialize the inventory dictionary using user input\n",
    "    for product in products:\n",
    "        quantity = int(input(f\"Enter the quantity of {product}: \"))\n",
    "        inventory[product] = quantity\n",
    "\n",
    "    # Return the initialized inventory dictionary\n",
    "    return inventory\n",
    "\n",
    "# Define a list of products\n",
    "products = [\"t-shirt\", \"mug\", \"hat\", \"book\", \"keychain\"]\n",
    "\n",
    "# Call the initialize_inventory function with the products list as parameter\n",
    "inventory = initialize_inventory(products)\n",
    "\n",
    "# Print the initialized inventory dictionary\n",
    "print(\"Initialized Inventory:\")\n",
    "print(inventory)\n"
   ]
  },
  {
   "cell_type": "code",
   "execution_count": null,
   "metadata": {
    "vscode": {
     "languageId": "plaintext"
    }
   },
   "outputs": [],
   "source": [
    "def get_customer_orders():\n",
    "    # Create an empty set for customer orders\n",
    "    customer_orders = set()\n",
    "\n",
    "    # Prompt the user to input the name of each product\n",
    "    while True:\n",
    "        product_name = input(\"Enter the name of a product that a customer wants to order (or 'done' to finish): \")\n",
    "        \n",
    "        # If the user enters 'done', exit the loop\n",
    "        if product_name.lower() == 'done':\n",
    "            break\n",
    "        \n",
    "        # Add the product name to the customer_orders set\n",
    "        customer_orders.add(product_name)\n",
    "\n",
    "    # Return the customer_orders set\n",
    "    return customer_orders\n",
    "\n",
    "# Test the function\n",
    "customer_orders = get_customer_orders()\n",
    "print(\"Customer Orders:\", customer_orders)\n"
   ]
  },
  {
   "cell_type": "code",
   "execution_count": null,
   "metadata": {
    "vscode": {
     "languageId": "plaintext"
    }
   },
   "outputs": [],
   "source": [
    "def update_inventory(customer_orders, inventory):\n",
    "    # Update the inventory dictionary based on the customer orders\n",
    "    for product in customer_orders:\n",
    "        # Check if the product is in the inventory\n",
    "        if product in inventory:\n",
    "            # Subtract 1 from the quantity of the product\n",
    "            inventory[product] -= 1\n",
    "\n",
    "    # Return the updated inventory dictionary\n",
    "    return inventory\n",
    "\n",
    "\n",
    "updated_inventory = update_inventory(customer_orders, inventory)\n",
    "print(\"Updated Inventory:\", updated_inventory)\n"
   ]
  },
  {
   "cell_type": "code",
   "execution_count": null,
   "metadata": {
    "vscode": {
     "languageId": "plaintext"
    }
   },
   "outputs": [],
   "source": [
    "def calculate_order_statistics(customer_orders, products):\n",
    "    # Calculate the total products ordered\n",
    "    total_products_ordered = len(customer_orders)\n",
    "\n",
    "    # Calculate the percentage of unique products ordered\n",
    "    total_available_products = len(products)\n",
    "    percentage_ordered = (total_products_ordered / total_available_products) * 100\n",
    "\n",
    "    # Return the calculated order statistics\n",
    "    return total_products_ordered, percentage_ordered\n",
    "\n",
    "\n",
    "total_ordered, percentage_ordered = calculate_order_statistics(customer_orders, products)\n",
    "print(\"Total Products Ordered:\", total_ordered)\n",
    "print(\"Percentage of Unique Products Ordered: {:.2f}%\".format(percentage_ordered))\n"
   ]
  },
  {
   "cell_type": "code",
   "execution_count": null,
   "metadata": {
    "vscode": {
     "languageId": "plaintext"
    }
   },
   "outputs": [],
   "source": [
    "def print_order_statistics(order_statistics):\n",
    "    # Unpack the order_statistics tuple\n",
    "    total_ordered, percentage_ordered = order_statistics\n",
    "\n",
    "    # Print the order statistics\n",
    "    print(\"Total Products Ordered:\", total_ordered)\n",
    "    print(\"Percentage of Unique Products Ordered: {:.2f}%\".format(percentage_ordered))\n",
    "\n"
   ]
  },
  {
   "cell_type": "code",
   "execution_count": null,
   "metadata": {
    "vscode": {
     "languageId": "plaintext"
    }
   },
   "outputs": [],
   "source": [
    "def print_updated_inventory(inventory):\n",
    "    # Print the updated inventory\n",
    "    print(\"Updated Inventory:\")\n",
    "    for product, quantity in inventory.items():\n",
    "        print(f\"{product}: {quantity}\")\n",
    "\n",
    "print_updated_inventory(inventory)\n"
   ]
  },
  {
   "cell_type": "code",
   "execution_count": null,
   "metadata": {
    "vscode": {
     "languageId": "plaintext"
    }
   },
   "outputs": [],
   "source": []
  }
 ],
 "metadata": {
  "kernelspec": {
   "display_name": "Python 3 (ipykernel)",
   "language": "python",
   "name": "python3"
  },
  "language_info": {
   "codemirror_mode": {
    "name": "ipython",
    "version": 3
   },
   "file_extension": ".py",
   "mimetype": "text/x-python",
   "name": "python",
   "nbconvert_exporter": "python",
   "pygments_lexer": "ipython3",
   "version": "3.9.13"
  }
 },
 "nbformat": 4,
 "nbformat_minor": 5
}
